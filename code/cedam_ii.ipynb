{
 "cells": [
  {
   "cell_type": "code",
   "execution_count": 33,
   "id": "d4bd5fa3",
   "metadata": {},
   "outputs": [],
   "source": [
    "import pandas as pd\n",
    "import numpy as np\n",
    "import matplotlib.pyplot as plt\n",
    "import seaborn as sns\n",
    "from datetime import datetime, time"
   ]
  },
  {
   "cell_type": "code",
   "execution_count": 2,
   "id": "754b3bf9",
   "metadata": {},
   "outputs": [],
   "source": [
    "#Ultimately decided to also do a bit of mdoeling here...\n",
    "from sklearn.model_selection import train_test_split\n",
    "from sklearn.preprocessing import StandardScaler\n",
    "\n",
    "from sklearn.linear_model import LinearRegression\n",
    "from sklearn.linear_model import RidgeCV\n",
    "from sklearn.ensemble import RandomForestRegressor\n",
    "\n",
    "from sklearn.pipeline import Pipeline\n",
    "from sklearn.model_selection import GridSearchCV\n",
    "\n",
    "from sklearn.model_selection import cross_val_score\n",
    "from sklearn.feature_selection import RFECV, RFE"
   ]
  },
  {
   "cell_type": "code",
   "execution_count": 3,
   "id": "e6ffd221",
   "metadata": {},
   "outputs": [
    {
     "name": "stdout",
     "output_type": "stream",
     "text": [
      "(38349, 13)\n"
     ]
    },
    {
     "data": {
      "text/html": [
       "<div>\n",
       "<style scoped>\n",
       "    .dataframe tbody tr th:only-of-type {\n",
       "        vertical-align: middle;\n",
       "    }\n",
       "\n",
       "    .dataframe tbody tr th {\n",
       "        vertical-align: top;\n",
       "    }\n",
       "\n",
       "    .dataframe thead th {\n",
       "        text-align: right;\n",
       "    }\n",
       "</style>\n",
       "<table border=\"1\" class=\"dataframe\">\n",
       "  <thead>\n",
       "    <tr style=\"text-align: right;\">\n",
       "      <th></th>\n",
       "      <th>taxi_id</th>\n",
       "      <th>trip_start_timestamp</th>\n",
       "      <th>trip_seconds</th>\n",
       "      <th>trip_miles</th>\n",
       "      <th>pickup_community_area</th>\n",
       "      <th>dropoff_community_area</th>\n",
       "      <th>fare</th>\n",
       "      <th>tips</th>\n",
       "      <th>tolls</th>\n",
       "      <th>extras</th>\n",
       "      <th>trip_total</th>\n",
       "      <th>payment_type</th>\n",
       "      <th>company</th>\n",
       "    </tr>\n",
       "  </thead>\n",
       "  <tbody>\n",
       "    <tr>\n",
       "      <th>0</th>\n",
       "      <td>008dda45db57cb6daa679a86ce8c8149ddc05446d545b1...</td>\n",
       "      <td>2015-01-14 14:30:00.000000 UTC</td>\n",
       "      <td>321</td>\n",
       "      <td>0.9</td>\n",
       "      <td>32.0</td>\n",
       "      <td>32.0</td>\n",
       "      <td>5.65</td>\n",
       "      <td>1.00</td>\n",
       "      <td>NaN</td>\n",
       "      <td>0.0</td>\n",
       "      <td>6.65</td>\n",
       "      <td>Credit Card</td>\n",
       "      <td>Yellow Cab</td>\n",
       "    </tr>\n",
       "    <tr>\n",
       "      <th>1</th>\n",
       "      <td>008dda45db57cb6daa679a86ce8c8149ddc05446d545b1...</td>\n",
       "      <td>2015-01-16 03:30:00.000000 UTC</td>\n",
       "      <td>688</td>\n",
       "      <td>4.2</td>\n",
       "      <td>24.0</td>\n",
       "      <td>22.0</td>\n",
       "      <td>12.25</td>\n",
       "      <td>2.45</td>\n",
       "      <td>NaN</td>\n",
       "      <td>0.0</td>\n",
       "      <td>14.70</td>\n",
       "      <td>Credit Card</td>\n",
       "      <td>Yellow Cab</td>\n",
       "    </tr>\n",
       "    <tr>\n",
       "      <th>2</th>\n",
       "      <td>008dda45db57cb6daa679a86ce8c8149ddc05446d545b1...</td>\n",
       "      <td>2015-01-01 01:30:00.000000 UTC</td>\n",
       "      <td>781</td>\n",
       "      <td>3.9</td>\n",
       "      <td>4.0</td>\n",
       "      <td>6.0</td>\n",
       "      <td>11.65</td>\n",
       "      <td>2.91</td>\n",
       "      <td>NaN</td>\n",
       "      <td>0.0</td>\n",
       "      <td>14.56</td>\n",
       "      <td>Credit Card</td>\n",
       "      <td>Yellow Cab</td>\n",
       "    </tr>\n",
       "    <tr>\n",
       "      <th>3</th>\n",
       "      <td>008dda45db57cb6daa679a86ce8c8149ddc05446d545b1...</td>\n",
       "      <td>2015-01-24 06:00:00.000000 UTC</td>\n",
       "      <td>104</td>\n",
       "      <td>0.4</td>\n",
       "      <td>6.0</td>\n",
       "      <td>6.0</td>\n",
       "      <td>3.85</td>\n",
       "      <td>15.71</td>\n",
       "      <td>NaN</td>\n",
       "      <td>0.0</td>\n",
       "      <td>19.56</td>\n",
       "      <td>Credit Card</td>\n",
       "      <td>Yellow Cab</td>\n",
       "    </tr>\n",
       "    <tr>\n",
       "      <th>4</th>\n",
       "      <td>008dda45db57cb6daa679a86ce8c8149ddc05446d545b1...</td>\n",
       "      <td>2015-01-06 22:00:00.000000 UTC</td>\n",
       "      <td>176</td>\n",
       "      <td>0.8</td>\n",
       "      <td>6.0</td>\n",
       "      <td>6.0</td>\n",
       "      <td>4.85</td>\n",
       "      <td>1.00</td>\n",
       "      <td>NaN</td>\n",
       "      <td>0.0</td>\n",
       "      <td>5.85</td>\n",
       "      <td>Credit Card</td>\n",
       "      <td>Yellow Cab</td>\n",
       "    </tr>\n",
       "  </tbody>\n",
       "</table>\n",
       "</div>"
      ],
      "text/plain": [
       "                                             taxi_id  \\\n",
       "0  008dda45db57cb6daa679a86ce8c8149ddc05446d545b1...   \n",
       "1  008dda45db57cb6daa679a86ce8c8149ddc05446d545b1...   \n",
       "2  008dda45db57cb6daa679a86ce8c8149ddc05446d545b1...   \n",
       "3  008dda45db57cb6daa679a86ce8c8149ddc05446d545b1...   \n",
       "4  008dda45db57cb6daa679a86ce8c8149ddc05446d545b1...   \n",
       "\n",
       "             trip_start_timestamp  trip_seconds  trip_miles  \\\n",
       "0  2015-01-14 14:30:00.000000 UTC           321         0.9   \n",
       "1  2015-01-16 03:30:00.000000 UTC           688         4.2   \n",
       "2  2015-01-01 01:30:00.000000 UTC           781         3.9   \n",
       "3  2015-01-24 06:00:00.000000 UTC           104         0.4   \n",
       "4  2015-01-06 22:00:00.000000 UTC           176         0.8   \n",
       "\n",
       "   pickup_community_area  dropoff_community_area   fare   tips  tolls  extras  \\\n",
       "0                   32.0                    32.0   5.65   1.00    NaN     0.0   \n",
       "1                   24.0                    22.0  12.25   2.45    NaN     0.0   \n",
       "2                    4.0                     6.0  11.65   2.91    NaN     0.0   \n",
       "3                    6.0                     6.0   3.85  15.71    NaN     0.0   \n",
       "4                    6.0                     6.0   4.85   1.00    NaN     0.0   \n",
       "\n",
       "   trip_total payment_type     company  \n",
       "0        6.65  Credit Card  Yellow Cab  \n",
       "1       14.70  Credit Card  Yellow Cab  \n",
       "2       14.56  Credit Card  Yellow Cab  \n",
       "3       19.56  Credit Card  Yellow Cab  \n",
       "4        5.85  Credit Card  Yellow Cab  "
      ]
     },
     "execution_count": 3,
     "metadata": {},
     "output_type": "execute_result"
    }
   ],
   "source": [
    "df = pd.read_csv('../data/chicago_taxis_ii.csv') #In short, we're doing this. See Readme.\n",
    "print(df.shape)\n",
    "df.head()"
   ]
  },
  {
   "cell_type": "code",
   "execution_count": 4,
   "id": "03100a41",
   "metadata": {},
   "outputs": [
    {
     "data": {
      "text/plain": [
       "company\n",
       "Yellow Cab    38349\n",
       "Name: count, dtype: int64"
      ]
     },
     "execution_count": 4,
     "metadata": {},
     "output_type": "execute_result"
    }
   ],
   "source": [
    "df['company'].value_counts() #Wow, despite trying to grab 40k guys (38.3k per the 10 mb download limit) we still just hav\n",
    "#Yellow cab. Hmm... Yeah, we'll drop this column. I still want to examine cross-company business, but likely the human element,\n",
    "#the part that's truly worthy of a 'tip', if at all, is best exemplifid here. So, let us finally be satisifed with this dataset\n",
    "#and continue."
   ]
  },
  {
   "cell_type": "code",
   "execution_count": 5,
   "id": "5a35d3fb",
   "metadata": {},
   "outputs": [
    {
     "name": "stdout",
     "output_type": "stream",
     "text": [
      "5.947425558312655\n"
     ]
    }
   ],
   "source": [
    "print(df.shape[0]/(len(df['taxi_id'].unique())*31)) #Hmm, so the average taxi driver is giving six rides a day. Keep this in mind for later."
   ]
  },
  {
   "cell_type": "code",
   "execution_count": 6,
   "id": "9afb181a",
   "metadata": {},
   "outputs": [
    {
     "data": {
      "text/plain": [
       "Index(['taxi_id', 'trip_start_timestamp', 'trip_seconds', 'trip_miles',\n",
       "       'pickup_community_area', 'dropoff_community_area', 'fare', 'tips',\n",
       "       'tolls', 'extras', 'trip_total', 'payment_type', 'company'],\n",
       "      dtype='object')"
      ]
     },
     "execution_count": 6,
     "metadata": {},
     "output_type": "execute_result"
    }
   ],
   "source": [
    "#On principal I'll redo all of the coding checks I usually do, yet I'll save commentary for something new.\n",
    "df.columns"
   ]
  },
  {
   "cell_type": "code",
   "execution_count": 7,
   "id": "225b1a7b",
   "metadata": {},
   "outputs": [
    {
     "name": "stdout",
     "output_type": "stream",
     "text": [
      "taxi_id                       0\n",
      "trip_start_timestamp          0\n",
      "trip_seconds                  0\n",
      "trip_miles                    0\n",
      "pickup_community_area       342\n",
      "dropoff_community_area     1261\n",
      "fare                          0\n",
      "tips                          0\n",
      "tolls                     38349\n",
      "extras                        0\n",
      "trip_total                    0\n",
      "payment_type                  0\n",
      "company                       0\n",
      "dtype: int64\n",
      "Hence we just dropped tolls as sadly, without exception, that entire column was nulled...\n"
     ]
    }
   ],
   "source": [
    "print(df.isnull().sum()) #Oh wow... all of the tolls are nulls... looks like we'll just be dropping that column then.\n",
    "\n",
    "#Yeah, let's go ahead and borrow inspiration from the below code and go ahead and knock out a totally nulled row...\n",
    "    #Perhaps a fail safe if that's the target variable? Nah, I don't care what the board says - if the target is null...\n",
    "    #they're dull and drop them.\n",
    "\n",
    "for i in df.columns:\n",
    "    if df[i].isnull().sum() == df.shape[0]:\n",
    "        df = df.drop([i], axis=1)\n",
    "        print(f\"Hence we just dropped {i} as sadly, without exception, that entire column was nulled...\")"
   ]
  },
  {
   "cell_type": "code",
   "execution_count": 8,
   "id": "d001941a",
   "metadata": {},
   "outputs": [
    {
     "name": "stdout",
     "output_type": "stream",
     "text": [
      "Well, taxi_id has 208 unique fields, so we'll keep it...for now!\n",
      "Well, trip_start_timestamp has 2907 unique fields, so we'll keep it...for now!\n",
      "Well, trip_seconds has 3137 unique fields, so we'll keep it...for now!\n",
      "Well, trip_miles has 325 unique fields, so we'll keep it...for now!\n",
      "Well, pickup_community_area has 68 unique fields, so we'll keep it...for now!\n",
      "Well, dropoff_community_area has 73 unique fields, so we'll keep it...for now!\n",
      "Well, fare has 313 unique fields, so we'll keep it...for now!\n",
      "Well, tips has 906 unique fields, so we'll keep it...for now!\n",
      "Well, extras has 81 unique fields, so we'll keep it...for now!\n",
      "Well, trip_total has 1665 unique fields, so we'll keep it...for now!\n",
      "Well, payment_type has 2 unique fields, so we'll keep it...for now!\n",
      "Just dropped company as it wasn't adding any value whatsoever to our model.\n"
     ]
    }
   ],
   "source": [
    "#Added a new feature to also take care of 1 dimensional fields - no need to keep those.\n",
    "\n",
    "for i in df.columns:\n",
    "    if len(df[i].unique()) == df.shape[0] or len(df[i].unique()) == 1:\n",
    "        df = df.drop([i], axis=1) #Not adding anything to our model... Hmm, now that I think about it, let's make this better:\n",
    "        print(f\"Just dropped {i} as it wasn't adding any value whatsoever to our model.\")\n",
    "    else:\n",
    "        print(f\"Well, {i} has {len(df[i].unique())} unique fields, so we'll keep it...for now!\")"
   ]
  },
  {
   "cell_type": "code",
   "execution_count": 9,
   "id": "f6130671",
   "metadata": {},
   "outputs": [],
   "source": [
    "df['taxi_id'] = df['taxi_id'].replace(list(df['taxi_id'].unique()),[f\"taxi_{i}\" for i in range(df['taxi_id'].unique().shape[0])])\n",
    "\n",
    "df['start_date'] = pd.to_datetime(df['trip_start_timestamp']).dt.date\n",
    "df['start_time'] = pd.to_datetime(df['trip_start_timestamp']).dt.time\n",
    "\n",
    "df = df.drop(['trip_start_timestamp'], axis = 1)"
   ]
  },
  {
   "cell_type": "code",
   "execution_count": 10,
   "id": "08965477",
   "metadata": {},
   "outputs": [
    {
     "name": "stdout",
     "output_type": "stream",
     "text": [
      "0.0\n",
      "0.0\n"
     ]
    },
    {
     "data": {
      "text/plain": [
       "count    38349.000000\n",
       "mean       817.502047\n",
       "std        642.643298\n",
       "min          1.000000\n",
       "25%        388.000000\n",
       "50%        614.000000\n",
       "75%       1043.000000\n",
       "max       8319.000000\n",
       "Name: trip_seconds, dtype: float64"
      ]
     },
     "execution_count": 10,
     "metadata": {},
     "output_type": "execute_result"
    }
   ],
   "source": [
    "print(df['trip_seconds'].isnull().sum()/df.shape[0])\n",
    "#print(df[df['trip_seconds'].isnull()]['trip_miles'].describe())\n",
    "#df['trip_seconds'].replace(np.nan,0.0, inplace=True)\n",
    "print(df[df['trip_seconds']==0].shape[0]/df.shape[0])\n",
    "df['trip_seconds'].describe()"
   ]
  },
  {
   "cell_type": "markdown",
   "id": "bda200f4",
   "metadata": {},
   "source": [
    "Now there we go! Still skewed to the right, but a lot more of what I'd expect with actual taxi rides! Ie an over 10 minute median and 13 minute mean taxi ride... sounds a lot more realistic. "
   ]
  },
  {
   "cell_type": "code",
   "execution_count": 11,
   "id": "94153367",
   "metadata": {},
   "outputs": [
    {
     "name": "stdout",
     "output_type": "stream",
     "text": [
      "0.0\n",
      "0.0\n"
     ]
    },
    {
     "data": {
      "text/plain": [
       "count    38349.000000\n",
       "mean         4.729565\n",
       "std          5.610072\n",
       "min          0.100000\n",
       "25%          1.100000\n",
       "50%          2.200000\n",
       "75%          5.500000\n",
       "max         63.400000\n",
       "Name: trip_miles, dtype: float64"
      ]
     },
     "execution_count": 11,
     "metadata": {},
     "output_type": "execute_result"
    }
   ],
   "source": [
    "print(df['trip_miles'].isnull().sum()/df.shape[0])\n",
    "#print(df[df['trip_miles'].isnull()]['trip_seconds'].describe())\n",
    "#df['trip_miles'].replace(np.nan,0.0, inplace=True)\n",
    "print(df[df['trip_miles']==0].shape[0]/df.shape[0])\n",
    "df['trip_miles'].describe()"
   ]
  },
  {
   "cell_type": "markdown",
   "id": "41f4f3b3",
   "metadata": {},
   "source": [
    "Similarily, trip miles seem reasonble. Of interest would be to consider factors such as location re traffic and the like as notice that here the mean is more than half of the mean!"
   ]
  },
  {
   "cell_type": "code",
   "execution_count": 12,
   "id": "0bae2d4c",
   "metadata": {},
   "outputs": [
    {
     "name": "stdout",
     "output_type": "stream",
     "text": [
      "38007\n",
      "37088\n",
      "68 73\n"
     ]
    }
   ],
   "source": [
    "print(df[df['pickup_community_area'].notnull()].shape[0])\n",
    "print(df[df['dropoff_community_area'].notnull()].shape[0])\n",
    "print(len(df['pickup_community_area'].unique()), len(df['dropoff_community_area'].unique())) #Counting nulls"
   ]
  },
  {
   "cell_type": "code",
   "execution_count": 13,
   "id": "88ccad9d",
   "metadata": {},
   "outputs": [
    {
     "data": {
      "text/plain": [
       "count    38349.000000\n",
       "mean        12.987318\n",
       "std         10.375461\n",
       "min          3.250000\n",
       "25%          6.050000\n",
       "50%          8.450000\n",
       "75%         14.850000\n",
       "max        117.650000\n",
       "Name: fare, dtype: float64"
      ]
     },
     "execution_count": 13,
     "metadata": {},
     "output_type": "execute_result"
    }
   ],
   "source": [
    "df['fare'].describe()"
   ]
  },
  {
   "cell_type": "markdown",
   "id": "4dcc352a",
   "metadata": {},
   "source": [
    "Continuing the theme of right skews, yet reasonable. Quite happy with this.\n",
    "\n",
    "HOWEVER, bear in mind that this will be correlated, likely, with miles and times - the main (if not only) calculations of the factor, save perhaps a base pick-up fare."
   ]
  },
  {
   "cell_type": "code",
   "execution_count": 14,
   "id": "144eae3d",
   "metadata": {},
   "outputs": [
    {
     "data": {
      "text/plain": [
       "count    38349.000000\n",
       "mean         0.859318\n",
       "std          2.239966\n",
       "min          0.000000\n",
       "25%          0.000000\n",
       "50%          0.000000\n",
       "75%          1.000000\n",
       "max         99.500000\n",
       "Name: extras, dtype: float64"
      ]
     },
     "execution_count": 14,
     "metadata": {},
     "output_type": "execute_result"
    }
   ],
   "source": [
    "#Saving tips for later as that's our target...potentially.\n",
    "\n",
    "df['extras'].describe() #Unsurprising as generally people don't have extras like vomit-cleaning fees..."
   ]
  },
  {
   "cell_type": "code",
   "execution_count": 15,
   "id": "f76b7f96",
   "metadata": {},
   "outputs": [
    {
     "data": {
      "text/plain": [
       "count    38349.000000\n",
       "mean        16.760136\n",
       "std         13.620977\n",
       "min          3.650000\n",
       "25%          8.450000\n",
       "50%         11.050000\n",
       "75%         18.150000\n",
       "max        300.850000\n",
       "Name: trip_total, dtype: float64"
      ]
     },
     "execution_count": 15,
     "metadata": {},
     "output_type": "execute_result"
    }
   ],
   "source": [
    "df['trip_total'].describe()"
   ]
  },
  {
   "cell_type": "markdown",
   "id": "143a6235",
   "metadata": {},
   "source": [
    "Completely unsurprising that this also skewed o the right as seemingly this is jut a simple add. Yet a precise add does not yield the same results for a bit less than 10% of the cases (below). However, this seems to be via rounding errors as look at the head - row 4's far of 3.85 and tip of 15.71 equals 19.56....yet via rounding in one of the features it's not precisely the same. However, plus or minus a penny we have no excepetions - so yes, trip_total is a function of those three.\n",
    "\n",
    "For later prediction purposes, it won't behoove us to keep trip_total unadjusted as it already includes our target - the fare. So, we'll change it to remove the fare momentarily."
   ]
  },
  {
   "cell_type": "code",
   "execution_count": 16,
   "id": "6f4ad45e",
   "metadata": {},
   "outputs": [
    {
     "name": "stdout",
     "output_type": "stream",
     "text": [
      "3522\n",
      "0\n"
     ]
    }
   ],
   "source": [
    "print(df[df['trip_total'] != df['fare'] + df['tips'] + df['extras']].shape[0])\n",
    "\n",
    "print(df[~df['trip_total'].between(df['fare'] + df['tips'] + df['extras']-.01,df['fare'] + df['tips'] + df['extras']+.01)].shape[0])\n",
    "\n",
    "df['trip_total_pre_tip'] = df['trip_total'] - df['tips']\n",
    "\n",
    "df = df.drop(['trip_total'], axis = 1) #Moving to later on"
   ]
  },
  {
   "cell_type": "code",
   "execution_count": 17,
   "id": "727373dd",
   "metadata": {},
   "outputs": [
    {
     "data": {
      "text/plain": [
       "payment_type\n",
       "Credit Card    38342\n",
       "Cash               7\n",
       "Name: count, dtype: int64"
      ]
     },
     "execution_count": 17,
     "metadata": {},
     "output_type": "execute_result"
    }
   ],
   "source": [
    "df['payment_type'].value_counts(normalize=0)"
   ]
  },
  {
   "cell_type": "markdown",
   "id": "1fc49450",
   "metadata": {},
   "source": [
    " Oh wow... I didn't realize that many people use credi cards (in 2015). Wow, a bit tempted to just drop this column when so few people use cash. To do things justice, I'll at least look at them first (even though in conjunction with the consideration of other factors cash might contriubte to tipping less (or technically the reverse), per the small sample we have..."
   ]
  },
  {
   "cell_type": "code",
   "execution_count": 18,
   "id": "84f74200",
   "metadata": {},
   "outputs": [
    {
     "data": {
      "text/html": [
       "<div>\n",
       "<style scoped>\n",
       "    .dataframe tbody tr th:only-of-type {\n",
       "        vertical-align: middle;\n",
       "    }\n",
       "\n",
       "    .dataframe tbody tr th {\n",
       "        vertical-align: top;\n",
       "    }\n",
       "\n",
       "    .dataframe thead th {\n",
       "        text-align: right;\n",
       "    }\n",
       "</style>\n",
       "<table border=\"1\" class=\"dataframe\">\n",
       "  <thead>\n",
       "    <tr style=\"text-align: right;\">\n",
       "      <th></th>\n",
       "      <th>count</th>\n",
       "      <th>mean</th>\n",
       "      <th>std</th>\n",
       "      <th>min</th>\n",
       "      <th>25%</th>\n",
       "      <th>50%</th>\n",
       "      <th>75%</th>\n",
       "      <th>max</th>\n",
       "    </tr>\n",
       "    <tr>\n",
       "      <th>payment_type</th>\n",
       "      <th></th>\n",
       "      <th></th>\n",
       "      <th></th>\n",
       "      <th></th>\n",
       "      <th></th>\n",
       "      <th></th>\n",
       "      <th></th>\n",
       "      <th></th>\n",
       "    </tr>\n",
       "  </thead>\n",
       "  <tbody>\n",
       "    <tr>\n",
       "      <th>Cash</th>\n",
       "      <td>7.0</td>\n",
       "      <td>3.242857</td>\n",
       "      <td>4.101060</td>\n",
       "      <td>0.05</td>\n",
       "      <td>1.00</td>\n",
       "      <td>1.0</td>\n",
       "      <td>4.2</td>\n",
       "      <td>11.25</td>\n",
       "    </tr>\n",
       "    <tr>\n",
       "      <th>Credit Card</th>\n",
       "      <td>38342.0</td>\n",
       "      <td>2.913440</td>\n",
       "      <td>2.739069</td>\n",
       "      <td>0.01</td>\n",
       "      <td>1.99</td>\n",
       "      <td>2.0</td>\n",
       "      <td>3.0</td>\n",
       "      <td>270.00</td>\n",
       "    </tr>\n",
       "  </tbody>\n",
       "</table>\n",
       "</div>"
      ],
      "text/plain": [
       "                count      mean       std   min   25%  50%  75%     max\n",
       "payment_type                                                           \n",
       "Cash              7.0  3.242857  4.101060  0.05  1.00  1.0  4.2   11.25\n",
       "Credit Card   38342.0  2.913440  2.739069  0.01  1.99  2.0  3.0  270.00"
      ]
     },
     "execution_count": 18,
     "metadata": {},
     "output_type": "execute_result"
    }
   ],
   "source": [
    "df.groupby('payment_type')['tips'].describe()"
   ]
  },
  {
   "cell_type": "markdown",
   "id": "5455d220",
   "metadata": {},
   "source": [
    "Oh wow, the mean of cash is a bit higher; median on the other hand... However, with such few results I think I'll ignore this column."
   ]
  },
  {
   "cell_type": "code",
   "execution_count": 19,
   "id": "39d93846",
   "metadata": {},
   "outputs": [],
   "source": [
    "df = df.drop(['payment_type'], axis = 1) #Potentially I wonder if we should just remove the cash ons, but eh..."
   ]
  },
  {
   "cell_type": "markdown",
   "id": "e68bfbf6",
   "metadata": {},
   "source": [
    "Oooh date. On the topic - recall that we're in the month of January, a typically cold month in Chicago (without examining what actually happened, but statistically...). As far as I know, nothing stands out re. 2015... However, the weekend factor might contribute to matters, assuming most people have off Saturday and on Sunday (and on that note Friday evening, say after 19, should likely also be considered an evening...\n",
    "\n",
    "So, it's incumbent upon us to make day-of-the-week guys. I'll preserve the original in case we need it; eh, we still have our dataset... On that note, it might be interesting to make nighttime/daytime variables.\n",
    "\n",
    "From a time series perspective I think a month's change is negligible of changes in culture, inflation, etc. However, around the clock could provide an interesting perspective.\n",
    "\n",
    "For this first analysis we'll go about things normally, but we might as well arrange things later by time. Note then that we'd need to average all of the features together, potentially going back to SQL to do so."
   ]
  },
  {
   "cell_type": "code",
   "execution_count": 20,
   "id": "25717592",
   "metadata": {},
   "outputs": [],
   "source": [
    "df['day_of_week'] = pd.to_datetime(df['start_date']).dt.day_name()"
   ]
  },
  {
   "cell_type": "code",
   "execution_count": 21,
   "id": "60c3220a",
   "metadata": {},
   "outputs": [],
   "source": [
    "#For now at least let's just make things simple and assign anything on Saturday or Sunday to be the weekend\n",
    "df['weekend'] = [1 if i in ['Saturday','Sunday'] else 0 for i in df['day_of_week']]\n",
    "\n",
    "# df.iloc[0, df.columns.get_loc('start_time')] > time(17,00)"
   ]
  },
  {
   "cell_type": "code",
   "execution_count": 22,
   "id": "b4a4919d",
   "metadata": {},
   "outputs": [],
   "source": [
    "# df['start_time'] = pd.to_datetime(df['start_time'], format='%H:%M')"
   ]
  },
  {
   "cell_type": "code",
   "execution_count": 23,
   "id": "0d8c025d",
   "metadata": {},
   "outputs": [],
   "source": [
    "#A final initial time manipulation I'll do is to if the taxi service started during the day or not. \n",
    "#January 15th in Chicago, per a quite google search, lists 7:15 and 16:45 as sunrise/set. I'll rely on this, not wanting to change\n",
    "#from day to day. Furthermore, unsure which direction to be \"strict\" in, as I'm unsure if people are in greater moods during\n",
    "#the day or at night.\n",
    "\n",
    "#on the topic, a bit of a reief we're doing this just in January/one month as this factor would change over time;\n",
    "#hence the desire to do a timeseries noob.\n",
    "\n",
    "df['night'] = [1 if (i < time(7,15)) or (i > time(16,45)) else 0 for i in df['start_time']]\n",
    "\n",
    "#Should be done with these for now.\n",
    "df = df.drop(['day_of_week', 'start_date', 'start_time'], axis = 1)"
   ]
  },
  {
   "cell_type": "code",
   "execution_count": 24,
   "id": "c8921a63",
   "metadata": {},
   "outputs": [],
   "source": [
    "#The final matter to consider is our target: tips. I'm unsure if I should keep them in dollar amounts or a percentage of the pre-tip\n",
    "#fare. I'm inclined the later as I think it'll be more robust to large trips as well as more descriptive of behavior overall...\n",
    "\n",
    "#Would like to right on this more later, but eh...\n",
    "\n",
    "df['tip_percentage'] = df['tips'] / df['trip_total_pre_tip']\n",
    "\n",
    "df = df.drop(['tips', 'trip_total_pre_tip'], axis = 1) #Given that it's a simple add of the previous two, it's not contributing\n",
    "#anything else anymore to having it. So, let us retain our individual fares and extras."
   ]
  },
  {
   "cell_type": "code",
   "execution_count": 25,
   "id": "bb854524",
   "metadata": {},
   "outputs": [],
   "source": [
    "#Great,we should be ready for actual modeling round, at least with this round:\n",
    "\n",
    "#We'll also drop taxi id for now... Oh, and pickup/dropoff as I totally forgot about those two....\n",
    "X = df.drop(['tip_percentage', 'taxi_id', 'pickup_community_area', 'dropoff_community_area'], axis=1)\n",
    "y = df['tip_percentage']\n",
    "\n",
    "X_train, X_test, y_train, y_test = train_test_split(X, y, test_size=.25, random_state=26)\n",
    "#Re. 26 - I like that number. Discussion not for now\n",
    "\n",
    "ss = StandardScaler()\n",
    "X_train = ss.fit_transform(X_train)\n",
    "X_test = ss.transform(X_test)"
   ]
  },
  {
   "cell_type": "code",
   "execution_count": 26,
   "id": "b63d7f00",
   "metadata": {},
   "outputs": [
    {
     "name": "stdout",
     "output_type": "stream",
     "text": [
      "0.039061156496955074 0.06738052175978615\n",
      "0.06939697775750422\n"
     ]
    }
   ],
   "source": [
    "lr = LinearRegression()\n",
    "\n",
    "current_model = lr.fit(X_train, y_train)\n",
    "\n",
    "current_preds = lr.predict(X_test)\n",
    "\n",
    "print(current_model.score(X_train, y_train), current_model.score(X_test, y_test))\n",
    "print(cross_val_score(lr, X_train, y_train, cv = 5).mean()) #Oh.... thats' horrible... albeit lr but stil..."
   ]
  },
  {
   "cell_type": "code",
   "execution_count": 27,
   "id": "0ec7b283",
   "metadata": {},
   "outputs": [
    {
     "name": "stdout",
     "output_type": "stream",
     "text": [
      "0.8243585211010792 0.013231331983252992\n"
     ]
    }
   ],
   "source": [
    "rf = RandomForestRegressor() #Without even tuning, let's at least get something....\n",
    "\n",
    "current_model = rf.fit(X_train, y_train)\n",
    "\n",
    "current_preds = rf.predict(X_test)\n",
    "\n",
    "print(current_model.score(X_train, y_train), current_model.score(X_test, y_test))"
   ]
  },
  {
   "cell_type": "markdown",
   "id": "35c7881e",
   "metadata": {},
   "source": [
    "Oh man.... that's even worse... So, we're obviously not giving up yet, but yeah... this is not looking good.\n",
    "\n",
    "Then again, it could show you how whimsical tiping is and there's no trend in the tip percentage based upon this data.\n",
    "NOW, pragmatically there's likely a trend between absolute dollars spend re. fare and trip, but at least re.percentage...\n",
    "\n",
    "I'll at least look at some individual taxis before doing at least some type of regression...\n",
    "\n",
    "Plus, it might be worthwhile to consider the rate of doing one big one versus many small ones... like all those taxi drivers that refused to make $20 to drive me a few blocks to the bus station lest a big whale get away and miss out on $200 when I was in Ukraine this past fall (2023)."
   ]
  },
  {
   "cell_type": "code",
   "execution_count": 28,
   "id": "fc1a0e26",
   "metadata": {},
   "outputs": [
    {
     "data": {
      "text/plain": [
       "count    38349.000000\n",
       "mean         0.240101\n",
       "std          0.186880\n",
       "min          0.000260\n",
       "25%          0.150376\n",
       "50%          0.200000\n",
       "75%          0.283688\n",
       "max         21.739130\n",
       "Name: tip_percentage, dtype: float64"
      ]
     },
     "execution_count": 28,
     "metadata": {},
     "output_type": "execute_result"
    }
   ],
   "source": [
    "df['tip_percentage'].describe()"
   ]
  },
  {
   "cell_type": "code",
   "execution_count": 29,
   "id": "81b2ebce",
   "metadata": {},
   "outputs": [
    {
     "name": "stdout",
     "output_type": "stream",
     "text": [
      "208\n"
     ]
    },
    {
     "data": {
      "text/plain": [
       "taxi_id\n",
       "taxi_154    492\n",
       "taxi_197    434\n",
       "taxi_139    424\n",
       "taxi_40     408\n",
       "taxi_167    400\n",
       "taxi_163    380\n",
       "taxi_195    363\n",
       "taxi_72     357\n",
       "taxi_79     357\n",
       "taxi_84     356\n",
       "Name: count, dtype: int64"
      ]
     },
     "execution_count": 29,
     "metadata": {},
     "output_type": "execute_result"
    }
   ],
   "source": [
    "#Hmm, this kinda seems like a sql thing. Oh well...\n",
    "#In retrospect, I could bruteforce it here by making a loop to go through each unique taxi id, storing each one's value counts\n",
    "#into a new df. For sure useful if I don't want to go back to SQL/didn't get the data from there.\n",
    "print(len(df['taxi_id'].value_counts()))\n",
    "\n",
    "taxi_id_df = df['taxi_id'].value_counts(ascending=False).reset_index()\n",
    "\n",
    "df['taxi_id'].value_counts(ascending=False)[:10]"
   ]
  },
  {
   "cell_type": "code",
   "execution_count": 30,
   "id": "245bdacc",
   "metadata": {},
   "outputs": [],
   "source": [
    "i = -1 #for browing purposes"
   ]
  },
  {
   "cell_type": "code",
   "execution_count": 31,
   "id": "c80ca6d0",
   "metadata": {},
   "outputs": [
    {
     "name": "stdout",
     "output_type": "stream",
     "text": [
      "taxi_id    taxi_154\n",
      "count           492\n",
      "Name: 0, dtype: object\n"
     ]
    },
    {
     "data": {
      "text/plain": [
       "count    492.000000\n",
       "mean       0.250750\n",
       "std        0.111740\n",
       "min        0.009266\n",
       "25%        0.176991\n",
       "50%        0.210532\n",
       "75%        0.306527\n",
       "max        0.854701\n",
       "Name: tip_percentage, dtype: float64"
      ]
     },
     "execution_count": 31,
     "metadata": {},
     "output_type": "execute_result"
    }
   ],
   "source": [
    "i += 1\n",
    "\n",
    "print(taxi_id_df.iloc[i])\n",
    "\n",
    "df[df['taxi_id']==taxi_id_df.iloc[0,i]]['tip_percentage'].describe()"
   ]
  },
  {
   "cell_type": "markdown",
   "id": "207d7e25",
   "metadata": {},
   "source": [
    "At least describing the first taxi, who worked 492 trips, notice that his median type is higher. Perhaps due to his experience he knows how to give people a comfortable ride such that they want to tip more."
   ]
  },
  {
   "cell_type": "markdown",
   "id": "5b8699d3",
   "metadata": {},
   "source": [
    "In full disclosure, given that this is a 'personal' project of sorts to preserve my Github activity. I can't say I'm interested in regular regression with a non-percentag based tip. I'll try to think of at least one more thing to do before calling it for this dataset (6/18/24)."
   ]
  },
  {
   "cell_type": "code",
   "execution_count": 35,
   "id": "a2232881",
   "metadata": {},
   "outputs": [
    {
     "data": {
      "image/png": "[encoded data removed]",
      "text/plain": [
       "<Figure size 1200x1200 with 2 Axes>"
      ]
     },
     "metadata": {},
     "output_type": "display_data"
    }
   ],
   "source": [
    "#Yeah, guess we'll do some more 'basic' things such as this:\n",
    "\n",
    "plt.figure(figsize=(12, 12)) #\n",
    "corr = df.corr(numeric_only=True)\n",
    "mask = np.zeros_like(corr)\n",
    "mask[np.triu_indices_from(mask)] = True\n",
    "sns.heatmap(corr, mask = mask, annot=True, vmin = -1, vmax = 1, cmap='Blues');"
   ]
  },
  {
   "cell_type": "markdown",
   "id": "4f2a5e29",
   "metadata": {},
   "source": [
    "So, our true goal of tip percentage is pretty independent of everything. Of humour, to me at least, as the strongest correlation it has with something, albeit still weak, is having a negative .2 with the trip's duration. Ie it would imply that people are less likely to tip the longer the trip is (obviously factoring in matters such as expected trip duration. But, I can at least speak from my own experience that I'm less likely to tip as high when the trip as longer - as they at least made more base money from the longer trip (albeit the company might take whatever percentage...).\n",
    "\n",
    "Wow, apparently fare is directly, 1, correlated with trip miles... eh, connsidring the time costs that shouldn't be.... Albeit we'd expect them to be high.So too with duration.\n",
    "\n",
    "Of interest is the quite strong correlations we see between starting/ending location, whatever exactly is 'community_area' with duration and miles (and consquently fare). Ie their are likely relationships to be draw between the percentage of the people in all the areas as they go to their locations. Ie, sterotyping, all of Zone A are doctors that work in Zone B and the like.\n",
    "\n",
    "Extras, whatever that vague term is, also interests me that it has such a strong correlation with the areas. Of interest is its weak correlation with duration and miles though.\n",
    "\n",
    "Finally, our date features of weekend and night essentially are independent of anything (let alone our target). So, although I'm circumpsect to drop them, this would imply that they do not affect the model at all. For kicks I'll run the simple linear regression without them then call this project."
   ]
  },
  {
   "cell_type": "code",
   "execution_count": 43,
   "id": "044a770a",
   "metadata": {},
   "outputs": [
    {
     "name": "stdout",
     "output_type": "stream",
     "text": [
      "0.03850262350730971 0.0654760985712608\n",
      "0.06808583014129073\n"
     ]
    }
   ],
   "source": [
    "# df = df.drop(['weekend', 'night'], axis = 1) #Eh, should have just dropped it from X. Oh well.\n",
    "\n",
    "X = df.drop(['tip_percentage', 'taxi_id', 'pickup_community_area', 'dropoff_community_area'], axis=1)\n",
    "y = df['tip_percentage']\n",
    "\n",
    "X_train, X_test, y_train, y_test = train_test_split(X, y, test_size=.25, random_state=26)\n",
    "\n",
    "lr = LinearRegression()\n",
    "\n",
    "current_model = lr.fit(X_train, y_train)\n",
    "\n",
    "current_preds = lr.predict(X_test)\n",
    "\n",
    "print(current_model.score(X_train, y_train), current_model.score(X_test, y_test))\n",
    "print(cross_val_score(lr, X_train, y_train, cv = 5).mean()) #Slightly worse, but eh..."
   ]
  },
  {
   "cell_type": "code",
   "execution_count": 44,
   "id": "77f6008a",
   "metadata": {},
   "outputs": [
    {
     "name": "stdout",
     "output_type": "stream",
     "text": [
      "0.03887235240840292 0.06579694259170499\n",
      "0.0685738095707373\n"
     ]
    }
   ],
   "source": [
    "#Oh, no we have one more matter: the community areas... I just relaized that I didn't bother earlier to code for them.\n",
    "df['pickup_community_area'].fillna(999, inplace=True)\n",
    "df['dropoff_community_area'].fillna(999, inplace=True)\n",
    "\n",
    "X = df.drop(['tip_percentage', 'taxi_id'], axis=1)\n",
    "y = df['tip_percentage']\n",
    "\n",
    "X_train, X_test, y_train, y_test = train_test_split(X, y, test_size=.25, random_state=26)\n",
    "\n",
    "lr = LinearRegression()\n",
    "\n",
    "current_model = lr.fit(X_train, y_train)\n",
    "\n",
    "current_preds = lr.predict(X_test)\n",
    "\n",
    "print(current_model.score(X_train, y_train), current_model.score(X_test, y_test))\n",
    "print(cross_val_score(lr, X_train, y_train, cv = 5).mean()) #A neglegible (sp?) increase, but worth a try."
   ]
  },
  {
   "cell_type": "code",
   "execution_count": 40,
   "id": "cb84c008",
   "metadata": {},
   "outputs": [
    {
     "data": {
      "text/html": [
       "<div>\n",
       "<style scoped>\n",
       "    .dataframe tbody tr th:only-of-type {\n",
       "        vertical-align: middle;\n",
       "    }\n",
       "\n",
       "    .dataframe tbody tr th {\n",
       "        vertical-align: top;\n",
       "    }\n",
       "\n",
       "    .dataframe thead th {\n",
       "        text-align: right;\n",
       "    }\n",
       "</style>\n",
       "<table border=\"1\" class=\"dataframe\">\n",
       "  <thead>\n",
       "    <tr style=\"text-align: right;\">\n",
       "      <th></th>\n",
       "      <th>taxi_id</th>\n",
       "      <th>trip_seconds</th>\n",
       "      <th>trip_miles</th>\n",
       "      <th>pickup_community_area</th>\n",
       "      <th>dropoff_community_area</th>\n",
       "      <th>fare</th>\n",
       "      <th>extras</th>\n",
       "      <th>tip_percentage</th>\n",
       "    </tr>\n",
       "  </thead>\n",
       "  <tbody>\n",
       "    <tr>\n",
       "      <th>0</th>\n",
       "      <td>taxi_0</td>\n",
       "      <td>321</td>\n",
       "      <td>0.9</td>\n",
       "      <td>32.0</td>\n",
       "      <td>32.0</td>\n",
       "      <td>5.65</td>\n",
       "      <td>0.0</td>\n",
       "      <td>0.176991</td>\n",
       "    </tr>\n",
       "    <tr>\n",
       "      <th>1</th>\n",
       "      <td>taxi_0</td>\n",
       "      <td>688</td>\n",
       "      <td>4.2</td>\n",
       "      <td>24.0</td>\n",
       "      <td>22.0</td>\n",
       "      <td>12.25</td>\n",
       "      <td>0.0</td>\n",
       "      <td>0.200000</td>\n",
       "    </tr>\n",
       "    <tr>\n",
       "      <th>2</th>\n",
       "      <td>taxi_0</td>\n",
       "      <td>781</td>\n",
       "      <td>3.9</td>\n",
       "      <td>4.0</td>\n",
       "      <td>6.0</td>\n",
       "      <td>11.65</td>\n",
       "      <td>0.0</td>\n",
       "      <td>0.249785</td>\n",
       "    </tr>\n",
       "    <tr>\n",
       "      <th>3</th>\n",
       "      <td>taxi_0</td>\n",
       "      <td>104</td>\n",
       "      <td>0.4</td>\n",
       "      <td>6.0</td>\n",
       "      <td>6.0</td>\n",
       "      <td>3.85</td>\n",
       "      <td>0.0</td>\n",
       "      <td>4.080519</td>\n",
       "    </tr>\n",
       "    <tr>\n",
       "      <th>4</th>\n",
       "      <td>taxi_0</td>\n",
       "      <td>176</td>\n",
       "      <td>0.8</td>\n",
       "      <td>6.0</td>\n",
       "      <td>6.0</td>\n",
       "      <td>4.85</td>\n",
       "      <td>0.0</td>\n",
       "      <td>0.206186</td>\n",
       "    </tr>\n",
       "  </tbody>\n",
       "</table>\n",
       "</div>"
      ],
      "text/plain": [
       "  taxi_id  trip_seconds  trip_miles  pickup_community_area  \\\n",
       "0  taxi_0           321         0.9                   32.0   \n",
       "1  taxi_0           688         4.2                   24.0   \n",
       "2  taxi_0           781         3.9                    4.0   \n",
       "3  taxi_0           104         0.4                    6.0   \n",
       "4  taxi_0           176         0.8                    6.0   \n",
       "\n",
       "   dropoff_community_area   fare  extras  tip_percentage  \n",
       "0                    32.0   5.65     0.0        0.176991  \n",
       "1                    22.0  12.25     0.0        0.200000  \n",
       "2                     6.0  11.65     0.0        0.249785  \n",
       "3                     6.0   3.85     0.0        4.080519  \n",
       "4                     6.0   4.85     0.0        0.206186  "
      ]
     },
     "execution_count": 40,
     "metadata": {},
     "output_type": "execute_result"
    }
   ],
   "source": [
    "df.head()"
   ]
  }
 ],
 "metadata": {
  "kernelspec": {
   "display_name": "Python 3 (ipykernel)",
   "language": "python",
   "name": "python3"
  },
  "language_info": {
   "codemirror_mode": {
    "name": "ipython",
    "version": 3
   },
   "file_extension": ".py",
   "mimetype": "text/x-python",
   "name": "python",
   "nbconvert_exporter": "python",
   "pygments_lexer": "ipython3",
   "version": "3.11.5"
  }
 },
 "nbformat": 4,
 "nbformat_minor": 5
}
